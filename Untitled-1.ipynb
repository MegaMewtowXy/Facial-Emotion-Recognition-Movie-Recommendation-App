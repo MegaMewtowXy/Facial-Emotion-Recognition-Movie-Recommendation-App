{
 "cells": [
  {
   "cell_type": "code",
   "execution_count": 1,
   "metadata": {},
   "outputs": [
    {
     "name": "stderr",
     "output_type": "stream",
     "text": [
      "c:\\Users\\kshit\\AppData\\Local\\Programs\\Python\\Python312\\Lib\\site-packages\\tqdm\\auto.py:21: TqdmWarning: IProgress not found. Please update jupyter and ipywidgets. See https://ipywidgets.readthedocs.io/en/stable/user_install.html\n",
      "  from .autonotebook import tqdm as notebook_tqdm\n"
     ]
    }
   ],
   "source": [
    "from fer import FER\n",
    "import cv2\n"
   ]
  },
  {
   "cell_type": "code",
   "execution_count": 2,
   "metadata": {},
   "outputs": [],
   "source": [
    "def get_emotion():\n",
    "    detector=FER(mtcnn=True)\n",
    "    cap=cv2.VideoCapture(0)\n",
    "    if cap.isOpened():\n",
    "        result,image=cap.read()\n",
    "    else:\n",
    "        result=False\n",
    "    while result:\n",
    "        result,image=cap.read()\n",
    "        cv2.imshow(\"testing\",image)\n",
    "        if len(detector.detect_emotions(image))>0:\n",
    "            emotion_name,score=detector.top_emotion(image)\n",
    "            print(detector.detect_emotions(image))\n",
    "            print(emotion_name)\n",
    "            break\n",
    "        if(cv2.waitKey(10)==27):\n",
    "            break\n",
    "    cap.release()\n",
    "    cv2.destroyWindow(\"testing\")\n",
    "    return emotion_name"
   ]
  },
  {
   "cell_type": "code",
   "execution_count": 3,
   "metadata": {},
   "outputs": [
    {
     "name": "stdout",
     "output_type": "stream",
     "text": [
      "[{'box': [305, 196, 155, 192], 'emotions': {'angry': 0.03, 'disgust': 0.0, 'fear': 0.01, 'happy': 0.0, 'sad': 0.03, 'surprise': 0.0, 'neutral': 0.93}}]\n",
      "neutral\n"
     ]
    },
    {
     "data": {
      "text/plain": [
       "'neutral'"
      ]
     },
     "execution_count": 3,
     "metadata": {},
     "output_type": "execute_result"
    }
   ],
   "source": [
    "get_emotion()"
   ]
  }
 ],
 "metadata": {
  "kernelspec": {
   "display_name": "Python 3",
   "language": "python",
   "name": "python3"
  },
  "language_info": {
   "codemirror_mode": {
    "name": "ipython",
    "version": 3
   },
   "file_extension": ".py",
   "mimetype": "text/x-python",
   "name": "python",
   "nbconvert_exporter": "python",
   "pygments_lexer": "ipython3",
   "version": "3.12.9"
  }
 },
 "nbformat": 4,
 "nbformat_minor": 2
}
